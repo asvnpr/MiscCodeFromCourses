{
 "cells": [
  {
   "cell_type": "markdown",
   "metadata": {
    "deletable": true,
    "editable": true
   },
   "source": [
    "# Assignment 3\n",
    "## Due: March 2, 11:00pm  \n"
   ]
  },
  {
   "cell_type": "markdown",
   "metadata": {},
   "source": [
    "Alejandro Salvador Vega Nogales  \n",
    "801-13-7956  \n",
    "CCOM5050  \n",
    "Prof. Koutis  "
   ]
  },
  {
   "cell_type": "markdown",
   "metadata": {
    "deletable": true,
    "editable": true
   },
   "source": [
    "### Problem 1. [30]\n",
    "Give pseudocode for an algorithm that takes as input a real number x and a positive integer number  \n",
    "k, and computes a number y such that $|y - x^{\\frac{1}{k}}| < 0.01$. That is, y is an approximate kth root of x.  \n",
    "Your algorithm should use only the standard arithmetic operations and no other library functions.  \n",
    "What is the running time of your algorithm?"
   ]
  },
  {
   "cell_type": "markdown",
   "metadata": {
    "deletable": true,
    "editable": true
   },
   "source": [
    "### 1.1 Pseudocode:\n",
    "#### Context:\n",
    "find y, s.t. |y - x^(1/k)| < 0.01 i.e. y is an approximate kth root of x  \n",
    "We can resolve this to:  \n",
    "(y - 0.01)^k < x < (y + 0.01)^k  \n",
    "we can now use exponentiation by squaring and smart search to look for y  \n",
    "For the pseudocode I will refer to functions I implemented in python below  \n",
    "\n",
    "#### Pseudocode:\n",
    "+ def approxRoot(x,k):\n",
    "    + larger = 0\n",
    "    + j = 0\n",
    "    + while larger < x:\n",
    "        + j = j + 1\n",
    "        + power_two = pow(2, j) \n",
    "        + larger = pow(power_two, k)\n",
    "    + lo = pow(2, j-1)\n",
    "    + hi = pow(2,j)\n",
    "    + ints = $L_{lo...hi}$ # list\n",
    "    + base = binSearch(base, 0, (hi-lo), x, k)\n",
    "    + real_base = base + 0.01\n",
    "    + y_k = pow(r_base, k)\n",
    "    + while yk < x:\n",
    "        + r_base += 0.01\n",
    "        + yk = pow(r_base, k)\n",
    "    + yl = pow((r_base - 0.01), k)\n",
    "    + y = 0\n",
    "    + if (yk - x) < (x - yl):\n",
    "        + y = r_base\n",
    "    + else:\n",
    "        + y = r_base - 0.01\n",
    "    + return y\n",
    "    \n",
    "### 1.2 Python Implementation:"
   ]
  },
  {
   "cell_type": "code",
   "execution_count": 1,
   "metadata": {
    "collapsed": true,
    "deletable": true,
    "editable": true
   },
   "outputs": [],
   "source": [
    "def pow(y, k): #exponentiation by squaring\n",
    "\tpown = 1\n",
    "\twhile(k):\n",
    "\t\tif(k&1):\n",
    "\t\t\tpown *= y\n",
    "\t\tk //= 2\n",
    "\t\ty *= y\n",
    "\treturn pown\n",
    "\n",
    "# mostly normal binary search except \n",
    "# we are looking for an integer such that A[mid]^k < x, but A[mid+1]^k > x\n",
    "def binSearch(A, lo, hi, find, k): \n",
    "\tif(lo > hi):\n",
    "\t\treturn None\n",
    "\telse:\n",
    "\t\tmid = (lo + hi) // 2\n",
    "\t\ty1 = pow(A[mid], k)\n",
    "\t\ty2 = pow(A[mid+1], k)\n",
    "\t\tif(y1 < find and y2 > find):\n",
    "\t\t\treturn A[mid]\n",
    "\t\telif(y1 < find):\n",
    "\t\t\treturn binSearch(A, mid+1, hi, find, k)\n",
    "\t\telse:\n",
    "\t\t\treturn binSearch(A, lo, mid-1, find, k)\n",
    "\n",
    "def approxRoot(x, k): \n",
    "\tover = 0\n",
    "\tj = 0\n",
    "    # 2^j until 2^j > x. Approximate kth root of x\n",
    "    # should be in range(2^(j-1), 2^j)\n",
    "\twhile (over < x): \n",
    "\t\tj+=1\n",
    "\t\tpowah = pow(2, j)\n",
    "\t\tover = pow(powah, k)\n",
    "\tlo = pow(2, j-1)\n",
    "\thi = pow(2,j)\n",
    "\tx_ints = list(range(lo,hi+1)) # generate list from 2^(j-1) to 2^j\n",
    "\tbase_int = binSearch(x_ints, 0, (len(x_ints)-1), x, k) \n",
    "\tr_base = (base_int + 0.01) # start checking for kth root of x\n",
    "\tyk = pow(r_base, k)\n",
    "\twhile(yk < x):\n",
    "\t\tr_base += 0.01\n",
    "\t\tyk = pow(r_base, k)\n",
    "    # yr, (y + 0.01)^k, > x so need to check (y - 0.01)^k < x\n",
    "\tyl = pow((r_base - 0.01),k) \n",
    "\ty = 0 # just in case\n",
    "\tif ((yk - x) < (x - yl)): # find the closest approximation\n",
    "\t\ty = r_base\n",
    "\telse:\n",
    "\t\ty = r_base - 0.01 \n",
    "\treturn y"
   ]
  },
  {
   "cell_type": "markdown",
   "metadata": {},
   "source": [
    "### 1.3 Running Time\n",
    "Similar to smart search our running time is tied to our output, y.  \n",
    "Running time is $O(logy)$"
   ]
  },
  {
   "cell_type": "markdown",
   "metadata": {
    "deletable": true,
    "editable": true
   },
   "source": [
    "### Problem 2. [20]\n",
    "Give pseudocode for an algorithm that takes as input a sorted array A of size n and determines if  \n",
    "there is an element that appears more than n/2 times in A. What is the running time?"
   ]
  },
  {
   "cell_type": "markdown",
   "metadata": {
    "deletable": true,
    "editable": true
   },
   "source": [
    "### 2.1 Pseudocode:\n",
    "#### Context:\n",
    "If an element in A, x, appears more than $\\frac{n}{2}$:\n",
    "* We simply need to check x appears $\\frac{n}{2} + 1$ times\n",
    "* $A_{\\frac{n}{2}}$ will always contain the element that appears more than $\\frac{n}{2}$ times\n",
    "\n",
    "#### Pseudocode:\n",
    "\n",
    "def halfcount(A, target, lo, hi): \n",
    "  + mid = $\\frac{(lo + hi)}{2}$\n",
    "  + if($A_{mid}$ == target): #if you found an index, i, where $A_i$ == target, check left until $A_{i-1}$ != target\n",
    "      + if(mid > 0 and $A_{mid - 1} == A_{mid}$):\n",
    "          + return halfcount(A, target, lo, (mid - 1))\n",
    "        + else:\n",
    "            + return mid #found leftmost index where $A_{mid} == target$\n",
    "  + elif ($A_{mid}$ < target):\n",
    "    + return halfcount(A, target, (mid+1), hi)\n",
    "  + else:\n",
    "    + return halfcount(A, target, lo, (mid - 1)) \n",
    "\n",
    "def halfcountWrap(A):  \n",
    "  + target = $A_{\\frac{n}{2}}$  \n",
    "  + if $A_{1} == A_{n}$:  \n",
    "    + return True  \n",
    "  + else:  \n",
    "    + f_o = halfcount(A, target, 0, (n-1)) #find leftmost occurrence of $A_{\\frac{n}{2}}$    \n",
    "    + m_i = f_o + $\\frac{n}{2}$  #minimum interval   \n",
    "    + if ($A_{f\\_o} == A_{m\\_i}$):  #if the leftmost element = the one $\\frac{n}{2}$ to the right then true\n",
    "      + return True  \n",
    "    + else:  \n",
    "      + return False  \n"
   ]
  },
  {
   "cell_type": "markdown",
   "metadata": {
    "deletable": true,
    "editable": true
   },
   "source": [
    "### 2.2 Python implementation:\n",
    "sort of binary search, but since our target is an element in A we will always find it  \n",
    "To be honest, I came to the conclusion that all we had to do is  \n",
    "find the first appereance of A[n/2], call it i.  \n",
    "Once we found i we only needed to check if A[i] == A[j], j = i + n/2  \n",
    "Thought I had to do binary search logn times, tried playing around but couldn't come up  \n",
    "with much except searching on the left side and modifying my upper search bound\n",
    "googled 'find first occurrence in sorted array' and adapted this code to the problem: http://comproguide.blogspot.com/2013/06/finding-first-occurence-of-number-in.html"
   ]
  },
  {
   "cell_type": "code",
   "execution_count": 2,
   "metadata": {
    "collapsed": true,
    "deletable": true,
    "editable": true
   },
   "outputs": [],
   "source": [
    "def halfcount(A, target, lo, hi):\n",
    "\tmid = (lo + hi) // 2\n",
    "    # if you found an index, i, where A[i] == target, check left until A[i-1] != target\n",
    "\tif(A[mid] == target): \n",
    "\t\tif(mid > 0 and A[mid - 1] == A[mid]):\n",
    "\t\t\treturn halfcount(A, target, lo, (mid - 1))\n",
    "\t\telse:\n",
    "\t\t\treturn mid\n",
    "\telif (A[mid] < target):\n",
    "\t\treturn halfcount(A, target, (mid+1), hi)\n",
    "\telse:\n",
    "\t\treturn halfcount(A, target, lo, (mid - 1))\n",
    "\n",
    "\n",
    "def halfcountWrap(A):\n",
    "\tn = len(A)\n",
    "\tmid = (n - 1) // 2\n",
    "\ttarget = A[mid]\n",
    "\tif (A[0] == A[-1]):\n",
    "\t\treturn True\n",
    "\telse:\n",
    "\t\tfirstOccur = halfcount(A, target, 0, (n - 1))\n",
    "\t\tmin_intval = firstOccur + ((n - 1)// 2)\n",
    "\t\tif (A[firstOccur] == A[min_intval]):\n",
    "\t \t\treturn True\n",
    "\treturn False"
   ]
  },
  {
   "cell_type": "markdown",
   "metadata": {},
   "source": [
    "### 2.3 Running Time\n",
    "We have 8 O(1) possible operations in halfcountWrap which calls halfcount.  \n",
    "In halfcount we have a modified binary search with 5 O(1) possible operations.  \n",
    "We do $log_{2}n$ of calls + some extra for continously searching on the left bound.  \n",
    "These extra calls won't surpass $log_{2}n$.  \n",
    "Therefore, running time is $O(logn)$"
   ]
  },
  {
   "cell_type": "markdown",
   "metadata": {
    "deletable": true,
    "editable": true
   },
   "source": [
    "### Problem 3. [30]\n",
    "Write an appropriately modified implementation of Merge Sort that takes as input an array A and  \n",
    "returns two arrays B,P: B is the sorted version of A and P is the array containing the original  \n",
    "positions of the elements from B in A (i.e. if B[i] = A[j] then P[i] = j.)\n"
   ]
  },
  {
   "cell_type": "code",
   "execution_count": 3,
   "metadata": {
    "collapsed": true,
    "deletable": true,
    "editable": true
   },
   "outputs": [],
   "source": [
    "# Problem 3\n",
    "\n",
    "def merge(A, B):\n",
    "    sA = len(A)\n",
    "    sB = len(B)\n",
    "    Ai, Bi = 0,0\n",
    "    C = []\n",
    "    while ((Ai < sA) and (Bi < sB)):\n",
    "        if (A[Ai] < B[Bi]):\n",
    "            C.append(A[Ai])\n",
    "            Ai += 1\n",
    "        else:\n",
    "            C.append(B[Bi])\n",
    "            Bi += 1\n",
    "    # add missing elements from A and B\n",
    "    C = C + A[Ai:]\n",
    "    C = C + B[Bi:]\n",
    "    return C\n",
    "\n",
    "\n",
    "def sort(A):\n",
    "    if len(A) <= 1:\n",
    "    \treturn A\n",
    "\n",
    "    mid = len(A) // 2\n",
    "    A_left = sort(A[:mid])\n",
    "    A_right = sort(A[mid:])\n",
    "\n",
    "    return merge(A_left, A_right)\n",
    "\n",
    "def weirdMergeSort(A):\n",
    "\tdic = {}\n",
    "\t# use dictionary to store each number in A as a key,  \n",
    "    # and a list of indexes where it appears\n",
    "\tfor n in range(0, len(A)): \n",
    "\t\tif A[n] in dic:\n",
    "\t\t\tdic[A[n]] = dic[A[n]] + [n]\n",
    "\t\telse:\n",
    "\t\t\tdic[A[n]] = [n]\n",
    "\tB = sort(A)\n",
    "\tP = [] \n",
    "\ti = 0\n",
    "\t# once sorted, for each num in B, append to P \n",
    "    # the index in A where that num was originally\n",
    "\twhile(i < len(B)): \n",
    "\t\tif len(dic[B[i]]) > 1:\n",
    "\t\t\tfor j in dic[B[i]]:\n",
    "\t\t\t\tP.append(j)\n",
    "\t\t\ti += len(dic[B[i]])\n",
    "\t\telse:\n",
    "\t\t\tP.append(dic[B[i]][0])\n",
    "\t\t\ti +=1\n",
    "\treturn B, P"
   ]
  },
  {
   "cell_type": "markdown",
   "metadata": {
    "deletable": true,
    "editable": true
   },
   "source": [
    "### Problem 4. [20]\n",
    "Implement the DFS algorithm for directed graphs that we discussed in the class, including the pre- visit  \n",
    "and post-visit routines (you can also find this algorithm in the textbook). For your code you \n",
    "can pick any graph encoding you find convenient (e.g. an adjacency list, or adjacency matrix etc).  \n",
    "Please include with your code a graph with more than 20 nodes, in you preferred encoding, so  \n",
    "that we can run your code on it."
   ]
  },
  {
   "cell_type": "code",
   "execution_count": 4,
   "metadata": {
    "collapsed": false,
    "deletable": true,
    "editable": true
   },
   "outputs": [
    {
     "name": "stdout",
     "output_type": "stream",
     "text": [
      "3 (4, 5)\n",
      "2 (3, 6)\n",
      "1 (2, 7)\n",
      "5 (11, 12)\n",
      "6 (10, 13)\n",
      "7 (9, 14)\n",
      "11 (18, 19)\n",
      "10 (17, 20)\n",
      "9 (16, 21)\n",
      "13 (25, 26)\n",
      "14 (24, 27)\n",
      "15 (23, 28)\n",
      "19 (32, 33)\n",
      "18 (31, 34)\n",
      "17 (30, 35)\n",
      "20 (36, 37)\n",
      "16 (29, 38)\n",
      "12 (22, 39)\n",
      "8 (15, 40)\n",
      "4 (8, 41)\n",
      "0 (1, 42)\n"
     ]
    }
   ],
   "source": [
    "# Problem 4\n",
    "\n",
    "# used resources (http://www.cis.syr.edu/courses/cis400-2/graphs.pdf)\n",
    "# and http://www.cs.yale.edu/homes/aspnes/pinewiki/DepthFirstSearch.html\n",
    "# and appropriate section from book\n",
    "\n",
    "clock = 1\n",
    "\n",
    "def previsit(v, pre): #access clock, record time, increase clock\n",
    "\tglobal clock\n",
    "\tpre[v] = clock\n",
    "\tclock += 1\n",
    "\n",
    "def postvisit(v, post): #access clock, record time, increase clock\n",
    "\tglobal clock\n",
    "\tpost[v] = clock\n",
    "\tclock += 1\n",
    "    \n",
    "# mark visited, mark previsit time, explore descendants, mark exit time, print\n",
    "def explore(G, v, visited, pre, post): \n",
    "\tvisited[v] = True\n",
    "\tprevisit(v, pre)\n",
    "\tfor u in G[v]:\n",
    "\t\tif not visited[u]:\n",
    "\t\t\texplore(G, u, visited, pre, post)\n",
    "\tpostvisit(v, post)\n",
    "\tprint(\"%d (%d, %d)\" %(v, pre[v], post[v])) # will not be in order\n",
    "\n",
    "def deeEfEs(G, visited = []): # initialize\n",
    "\tfor v in G:\n",
    "\t\tvisited.append(False)\n",
    "\tpre = []\n",
    "\tpost = []\n",
    "\tfor i in range(0, len(G)):\n",
    "\t\tpre.append(0)\n",
    "\t\tpost.append(0)\n",
    "\tfor v in range(0, len(G)):\n",
    "\t\tif not visited[v]:\n",
    "\t\t\texplore(G, v, visited, pre, post)\n",
    "\n",
    "AL = [[1,4],[2],[3],[],[7,8],[],[5],[6],[9,12],[10],[11],[],[15,16],[],[13],[14],[17,20],[18],[19],[],[]]\n",
    "deeEfEs(AL)"
   ]
  }
 ],
 "metadata": {
  "kernelspec": {
   "display_name": "Python 3",
   "language": "python",
   "name": "python3"
  },
  "language_info": {
   "codemirror_mode": {
    "name": "ipython",
    "version": 3
   },
   "file_extension": ".py",
   "mimetype": "text/x-python",
   "name": "python",
   "nbconvert_exporter": "python",
   "pygments_lexer": "ipython3",
   "version": "3.6.0"
  }
 },
 "nbformat": 4,
 "nbformat_minor": 2
}
